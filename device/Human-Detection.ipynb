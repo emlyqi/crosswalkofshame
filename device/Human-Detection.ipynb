{
 "cells": [
  {
   "cell_type": "code",
   "execution_count": 6,
   "metadata": {},
   "outputs": [],
   "source": [
    "from ultralytics import YOLO\n",
    "\n",
    "trained = YOLO('Human-Detection.pt')"
   ]
  },
  {
   "cell_type": "code",
   "execution_count": 7,
   "metadata": {},
   "outputs": [],
   "source": [
    "import time\n",
    "import requests"
   ]
  },
  {
   "cell_type": "code",
   "execution_count": 8,
   "metadata": {},
   "outputs": [
    {
     "data": {
      "text/plain": [
       "True"
      ]
     },
     "execution_count": 8,
     "metadata": {},
     "output_type": "execute_result"
    }
   ],
   "source": [
    "import os\n",
    "from dotenv import load_dotenv\n",
    "\n",
    "load_dotenv()"
   ]
  },
  {
   "cell_type": "code",
   "execution_count": 9,
   "metadata": {},
   "outputs": [
    {
     "name": "stderr",
     "output_type": "stream",
     "text": [
      "2024-09-14 18:47:04.213 Python[30685:1435315] WARNING: Secure coding is not enabled for restorable state! Enable secure coding by implementing NSApplicationDelegate.applicationSupportsSecureRestorableState: and returning YES.\n"
     ]
    },
    {
     "name": "stdout",
     "output_type": "stream",
     "text": [
      "Time from red to green for ID 2.0: 4.93 seconds\n"
     ]
    },
    {
     "ename": "AttributeError",
     "evalue": "'float' object has no attribute 'round'",
     "output_type": "error",
     "traceback": [
      "\u001b[0;31m---------------------------------------------------------------------------\u001b[0m",
      "\u001b[0;31mAttributeError\u001b[0m                            Traceback (most recent call last)",
      "Cell \u001b[0;32mIn[9], line 57\u001b[0m\n\u001b[1;32m     55\u001b[0m elapsed_time \u001b[38;5;241m=\u001b[39m time\u001b[38;5;241m.\u001b[39mtime() \u001b[38;5;241m-\u001b[39m track_times_way_2[\u001b[38;5;28mid\u001b[39m]\n\u001b[1;32m     56\u001b[0m \u001b[38;5;28mprint\u001b[39m(\u001b[38;5;124mf\u001b[39m\u001b[38;5;124m\"\u001b[39m\u001b[38;5;124mTime from red to green for ID \u001b[39m\u001b[38;5;132;01m{\u001b[39;00m\u001b[38;5;28mid\u001b[39m\u001b[38;5;132;01m}\u001b[39;00m\u001b[38;5;124m: \u001b[39m\u001b[38;5;132;01m{\u001b[39;00melapsed_time\u001b[38;5;132;01m:\u001b[39;00m\u001b[38;5;124m.2f\u001b[39m\u001b[38;5;132;01m}\u001b[39;00m\u001b[38;5;124m seconds\u001b[39m\u001b[38;5;124m\"\u001b[39m)\n\u001b[0;32m---> 57\u001b[0m response \u001b[38;5;241m=\u001b[39m requests\u001b[38;5;241m.\u001b[39mpost(os\u001b[38;5;241m.\u001b[39mgetenv(\u001b[38;5;124m'\u001b[39m\u001b[38;5;124mURL\u001b[39m\u001b[38;5;124m'\u001b[39m), json\u001b[38;5;241m=\u001b[39m{\u001b[38;5;124m\"\u001b[39m\u001b[38;5;124margs\u001b[39m\u001b[38;5;124m\"\u001b[39m: {\u001b[38;5;124m\"\u001b[39m\u001b[38;5;124mcross_duration\u001b[39m\u001b[38;5;124m\"\u001b[39m: \u001b[43melapsed_time\u001b[49m\u001b[38;5;241;43m.\u001b[39;49m\u001b[43mround\u001b[49m(\u001b[38;5;241m2\u001b[39m)}})\n\u001b[1;32m     58\u001b[0m \u001b[38;5;28mprint\u001b[39m(response)\n\u001b[1;32m     59\u001b[0m \u001b[38;5;28;01mdel\u001b[39;00m track_times_way_2[\u001b[38;5;28mid\u001b[39m]  \u001b[38;5;66;03m# Remove tracking once completed\u001b[39;00m\n",
      "\u001b[0;31mAttributeError\u001b[0m: 'float' object has no attribute 'round'"
     ]
    }
   ],
   "source": [
    "from ultralytics import YOLO\n",
    "import cv2\n",
    "\n",
    "# Open the webcam \n",
    "cap = cv2.VideoCapture(0)\n",
    "\n",
    "if not cap.isOpened():\n",
    "    print(\"Error: Could not open webcam.\")\n",
    "    exit()\n",
    "\n",
    "width = cap.get(3)  # float `width`\n",
    "height = cap.get(4)  # float `height`\n",
    "\n",
    "track_times_way_1 = {}\n",
    "track_times_way_2 = {}\n",
    "\n",
    "area_1 = ((0,0), (200,int(height)))\n",
    "area_2 = ((int(width)-200,0), (int(width),int(height)))\n",
    "\n",
    "while True:\n",
    "\n",
    "    # Capture frame-by-frame\n",
    "    ret, frame = cap.read()\n",
    "\n",
    "    if not ret:\n",
    "        print(\"Error: Failed to capture image.\")\n",
    "        break\n",
    "\n",
    "    # Run YOLO inference on the frame\n",
    "    results = trained.track(frame, persist=True, verbose=False, conf=0.2, classes=[0])\n",
    "\n",
    "    current_tracks = set()\n",
    "\n",
    "    for result in results:  # Results as [x1, y1, x2, y2, confidence, class]\n",
    "        for i in range(len(result.boxes.cls)):\n",
    "            x1, y1, x2, y2 = result.boxes.xyxy[i]\n",
    "            conf = result.boxes.conf[i].item()\n",
    "            try:\n",
    "                if(result.boxes.id[i]):\n",
    "                    id = result.boxes.id[i].item()\n",
    "            except:\n",
    "                pass\n",
    "            x1 = x1.item()\n",
    "            y1 = y1.item()\n",
    "            x2 = x2.item()\n",
    "            y2 = y2.item()\n",
    "\n",
    "            mid_x = (x1 + x2) / 2  # Middle of the bounding box\n",
    "            mid_y = (y1 + y2) / 2\n",
    "            \n",
    "            if area_1[0][0] <= mid_x <= area_1[1][0] and area_1[0][1] <= mid_y <= area_1[1][1]:  # Check if in green zone\n",
    "                if id not in track_times_way_1:\n",
    "                    track_times_way_1[id] = time.time()  # Record entry time\n",
    "                if id in track_times_way_2:\n",
    "                    elapsed_time = time.time() - track_times_way_2[id]\n",
    "                    print(f\"Time from red to green for ID {id}: {elapsed_time:.2f} seconds\")\n",
    "                    response = requests.post(os.getenv('URL'), json={\"args\": {\"cross_duration\": round(elapsed_time,2)}})\n",
    "                    print(response)\n",
    "                    del track_times_way_2[id]  # Remove tracking once completed\n",
    "            if area_2[0][0] <= mid_x <= area_2[1][0] and area_2[0][1] <= mid_y<= area_2[1][1]:  # Check if in red zone\n",
    "                if id not in track_times_way_2:\n",
    "                    track_times_way_2[id] = time.time()  # Record entry time\n",
    "                if id in track_times_way_1:\n",
    "                    elapsed_time = time.time() - track_times_way_1[id]\n",
    "                    response = requests.post(os.getenv('URL'), json={\"args\": {\"cross_duration\": round(elapsed_time,2)}})\n",
    "                    print(response)\n",
    "                    del track_times_way_1[id]  # Remove tracking once completed\n",
    "\n",
    "            current_tracks.add(id)\n",
    "\n",
    "    # Cleanup track_times to remove old tracks no longer in view\n",
    "    track_ids_to_remove_1 = [tid for tid in track_times_way_1 if tid not in current_tracks]\n",
    "    for tid in track_ids_to_remove_1:\n",
    "        del track_times_way_1[tid]\n",
    "    \n",
    "    track_ids_to_remove_2 = [tid for tid in track_times_way_2 if tid not in current_tracks]\n",
    "    for tid in track_ids_to_remove_2:\n",
    "        del track_times_way_2[tid]\n",
    "\n",
    "\n",
    "    cv2.rectangle(frame, area_1[0], area_1[1], (0, 255, 0), 2)\n",
    "    cv2.rectangle(frame, area_2[0], area_2[1], (0, 0, 255), 2)\n",
    "\n",
    "    # Visualize the results on the frame\n",
    "    annotated_frame = results[0].plot()  # YOLOv8 has built-in plotting for results\n",
    "\n",
    "    # Display the resulting frame with annotations\n",
    "    cv2.imshow('YOLO Webcam', annotated_frame)\n",
    "\n",
    "    # Break the loop if 'q' is pressed\n",
    "    if cv2.waitKey(1) & 0xFF == ord('q'):\n",
    "        break\n",
    "\n",
    "\n",
    "# When everything is done, release the capture and close the window\n",
    "cap.release()\n",
    "cv2.destroyAllWindows()\n",
    "\n",
    "\n"
   ]
  }
 ],
 "metadata": {
  "kernelspec": {
   "display_name": "venv",
   "language": "python",
   "name": "python3"
  },
  "language_info": {
   "codemirror_mode": {
    "name": "ipython",
    "version": 3
   },
   "file_extension": ".py",
   "mimetype": "text/x-python",
   "name": "python",
   "nbconvert_exporter": "python",
   "pygments_lexer": "ipython3",
   "version": "3.10.10"
  }
 },
 "nbformat": 4,
 "nbformat_minor": 2
}
