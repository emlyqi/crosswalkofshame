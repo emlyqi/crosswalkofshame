{
 "cells": [
  {
   "cell_type": "code",
   "execution_count": 18,
   "metadata": {},
   "outputs": [],
   "source": [
    "from ultralytics import YOLO\n",
    "\n",
    "trained = YOLO('Phone-Detection.pt')"
   ]
  },
  {
   "cell_type": "code",
   "execution_count": 19,
   "metadata": {},
   "outputs": [],
   "source": [
    "from playsound import playsound"
   ]
  },
  {
   "cell_type": "code",
   "execution_count": 20,
   "metadata": {},
   "outputs": [],
   "source": [
    "from io import BytesIO\n",
    "from PIL import Image\n",
    "import base64\n",
    "\n",
    "# Function to convert image to base64\n",
    "def image_to_base64(image):\n",
    "    # Convert OpenCV image (NumPy array) to PIL Image\n",
    "    pil_image = Image.fromarray(image)\n",
    "\n",
    "    # Save the image to a BytesIO object as PNG format\n",
    "    buffered = BytesIO()\n",
    "    pil_image.save(buffered, format=\"PNG\")\n",
    "\n",
    "    # Get the base64 encoded string\n",
    "    img_str = base64.b64encode(buffered.getvalue()).decode(\"utf-8\")\n",
    "    return img_str"
   ]
  },
  {
   "cell_type": "code",
   "execution_count": 21,
   "metadata": {},
   "outputs": [],
   "source": [
    "import pygame\n",
    "from threading import Thread\n",
    "\n",
    "# Initialize the sound system using pygame\n",
    "pygame.mixer.init()\n",
    "\n",
    "# Load the sound file (ensure it's in the same directory or provide a full path)\n",
    "camera_sound = pygame.mixer.Sound(\"camera.mp3\")"
   ]
  },
  {
   "cell_type": "code",
   "execution_count": 22,
   "metadata": {},
   "outputs": [],
   "source": [
    "# Function to play sound and prevent overlap\n",
    "def play_sound():\n",
    "    # Check if the sound is currently playing\n",
    "    if not pygame.mixer.get_busy():\n",
    "        camera_sound.play()"
   ]
  },
  {
   "cell_type": "code",
   "execution_count": 27,
   "metadata": {},
   "outputs": [
    {
     "name": "stdout",
     "output_type": "stream",
     "text": [
      "Error: Failed to capture image.\n"
     ]
    }
   ],
   "source": [
    "from ultralytics import YOLO\n",
    "import cv2\n",
    "import mss\n",
    "import numpy as np\n",
    "import requests\n",
    "import os\n",
    "from dotenv import load_dotenv\n",
    "\n",
    "load_dotenv()\n",
    "\n",
    "# Open the webcam \n",
    "cap = cv2.VideoCapture(0)\n",
    "\n",
    "if not cap.isOpened():\n",
    "    print(\"Error: Could not open webcam.\")\n",
    "    exit()\n",
    "\n",
    "width  = cap.get(3)  # float `width`\n",
    "height = cap.get(4)  # float `height`\n",
    "\n",
    "cellphone_list = set()\n",
    "\n",
    "with mss.mss() as sct:\n",
    "\n",
    "    while True:\n",
    "\n",
    "        # Capture frame-by-frame\n",
    "        ret, frame = cap.read()\n",
    "\n",
    "        if not ret:\n",
    "            print(\"Error: Failed to capture image.\")\n",
    "            break\n",
    "\n",
    "        # Run YOLO inference on the frame\n",
    "        results = trained.track(frame, persist=True, verbose=False, conf=0.3)\n",
    "\n",
    "        for result in results:  # Results as [x1, y1, x2, y2, confidence, class]\n",
    "            for i in range(len(result.boxes.cls)):\n",
    "                x1, y1, x2, y2 = result.boxes.xyxy[i]\n",
    "                conf = result.boxes.conf[i].item()\n",
    "                try:\n",
    "                    if(result.boxes.id[i]):\n",
    "                        id = result.boxes.id[i].item()\n",
    "                except:\n",
    "                    pass\n",
    "                x1 = int(x1.item())\n",
    "                y1 = int(y1.item())\n",
    "                x2 = int(x2.item())\n",
    "                y2 = int(y2.item())\n",
    "\n",
    "                if(id not in cellphone_list):\n",
    "\n",
    "                    # Play the camera sound in a separate thread (non-blocking)\n",
    "                    sound_thread = Thread(target=play_sound)\n",
    "                    sound_thread.start()\n",
    "\n",
    "                    cellphone_list.add(id)\n",
    "\n",
    "                    # Capture the screen region\n",
    "                    cropped_frame = frame[int(max(0, y1-20)):int(min(height, y2 + 20)), int(max(0, x1-20)):int(min(width, x2+20))]\n",
    "\n",
    "                    # Change colour code\n",
    "                    cropped_frame = cv2.cvtColor(cropped_frame, cv2.COLOR_BGR2RGB)\n",
    "\n",
    "                    # Convert the captured image to base64\n",
    "                    img_base64 = image_to_base64(cropped_frame)\n",
    "\n",
    "                    response = requests.post(os.getenv('URL'), json={\"args\": {\"crosswalk_name\": \"default_crosswalk\", \"storageId\": \"data:image/png;base64,\" + img_base64}, \"path\": \"camera_data:addImage\"})\n",
    "\n",
    "\n",
    "        # Visualize the results on the frame\n",
    "        annotated_frame = results[0].plot()  # YOLOv8 has built-in plotting for results\n",
    "\n",
    "        # Display the resulting frame with annotations\n",
    "        cv2.imshow('YOLO Webcam', annotated_frame)\n",
    "\n",
    "        # Break the loop if 'q' is pressed\n",
    "        if cv2.waitKey(1) & 0xFF == ord('q'):\n",
    "            break\n",
    "\n",
    "\n",
    "# When everything is done, release the capture and close the window\n",
    "cap.release()\n",
    "cv2.destroyAllWindows()\n",
    "\n",
    "\n"
   ]
  }
 ],
 "metadata": {
  "kernelspec": {
   "display_name": "venv",
   "language": "python",
   "name": "python3"
  },
  "language_info": {
   "codemirror_mode": {
    "name": "ipython",
    "version": 3
   },
   "file_extension": ".py",
   "mimetype": "text/x-python",
   "name": "python",
   "nbconvert_exporter": "python",
   "pygments_lexer": "ipython3",
   "version": "3.10.10"
  }
 },
 "nbformat": 4,
 "nbformat_minor": 2
}
